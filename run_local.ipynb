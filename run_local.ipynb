{
 "cells": [
  {
   "cell_type": "code",
   "execution_count": null,
   "metadata": {},
   "outputs": [],
   "source": [
    "import pymupdf4llm\n",
    "import pymupdf\n",
    "doc = pymupdf.Document(\"./tmp/fa98938f-c9cd-443d-9cff-64393081f98c.pdf\")\n",
    "metadata = doc.metadata\n",
    "print(metadata)\n",
    "print(metadata.get('subject') or \"unknown\")\n",
    "\n",
    "markdown = pymupdf4llm.to_markdown(doc)\n",
    "doc.close()\n",
    "print(markdown)"
   ]
  },
  {
   "cell_type": "code",
   "execution_count": null,
   "metadata": {},
   "outputs": [],
   "source": [
    "from pypdf import PdfReader\n",
    "\n",
    "pdf = PdfReader(\"./tmp/0aa9167c-cdbe-4a52-ac90-4b5437a654b3.pdf\")\n",
    "\n",
    "text = \"\"\n",
    "\n",
    "for page in pdf.pages:\n",
    "    text += page.extract_text()\n",
    "    \n",
    "    \n",
    "print(text)"
   ]
  },
  {
   "cell_type": "code",
   "execution_count": null,
   "metadata": {},
   "outputs": [],
   "source": [
    "from DataFetcher.libraries.data_classes.range_enum import Range\n",
    "import os\n",
    "os.environ[\"local\"] = \"true\""
   ]
  },
  {
   "cell_type": "code",
   "execution_count": null,
   "metadata": {},
   "outputs": [],
   "source": [
    "# Install the requests module\n",
    "%pip install requests\n",
    "\n",
    "from DataFetcher.run_local import run_local_datafetcher\n",
    "\n",
    "\n",
    "run_local_datafetcher(range=Range.Tiny)"
   ]
  },
  {
   "cell_type": "code",
   "execution_count": null,
   "metadata": {},
   "outputs": [],
   "source": [
    "from DataFetcher.libraries.data_classes.range_enum import Range\n",
    "\n",
    "from ingester.run_local import run_local_ingest_stores\n",
    "\n",
    "run_local_ingest_stores(range=Range.Tiny)"
   ]
  },
  {
   "cell_type": "code",
   "execution_count": null,
   "metadata": {},
   "outputs": [],
   "source": [
    "from querier.run_local import run_local_query_stores\n",
    "from DataFetcher.libraries.data_classes.range_enum import Range\n",
    "\n",
    "res = run_local_query_stores(\"Hallo\",subject=\"utter-project/EuroLLM-9B\", range=Range.Tiny)\n",
    "print(len(res))\n",
    "print(res)"
   ]
  },
  {
   "cell_type": "code",
   "execution_count": null,
   "metadata": {},
   "outputs": [],
   "source": [
    "%pip install -U bitsandbytes"
   ]
  },
  {
   "cell_type": "code",
   "execution_count": null,
   "metadata": {},
   "outputs": [
    {
     "name": "stdout",
     "output_type": "stream",
     "text": [
      "Loaded .env file\n",
      "Place request to API\n",
      "API response: Ik kan op veel manieren helpen en informatie bieden. Hier zijn enkele voorbeelden:\\n\\n1. **Antwoorden vinden**: Ik kan informatie vinden op het internet en je helpen om antwoorden te vinden op je vragen.\\n2. **Uitleg geven**: Ik kan complexe onderwerpen uitleggen en helpen om dingen te begrijpen die je moeilijk volgens je te begrijpen zijn.\\n3. **Texten schrijven**: Ik kan tekstjes schrijven over een breed scala aan onderwerpen, van korte berichten tot langere artikelen.\\n4. **Conversaties voeren**: Ik kan met je praten alsof je met een vriend of een bekende bent, en ik kan je helpen om je gedachten en gevoelens uit te drukken.\\n5. **Naamgeving**: Ik kan namen suggesteren voor mensen, plaatsen, bedrijven of andere dingen.\\n6. **Taalverbetering**: Ik kan je helpen om je Engelse vaardigheden te verbeteren door je te helpen om tekstjes te schrijven, te lezen en te begrij\n"
     ]
    },
    {
     "data": {
      "text/plain": [
       "'Ik kan op veel manieren helpen en informatie bieden. Hier zijn enkele voorbeelden:\\\\n\\\\n1. **Antwoorden vinden**: Ik kan informatie vinden op het internet en je helpen om antwoorden te vinden op je vragen.\\\\n2. **Uitleg geven**: Ik kan complexe onderwerpen uitleggen en helpen om dingen te begrijpen die je moeilijk volgens je te begrijpen zijn.\\\\n3. **Texten schrijven**: Ik kan tekstjes schrijven over een breed scala aan onderwerpen, van korte berichten tot langere artikelen.\\\\n4. **Conversaties voeren**: Ik kan met je praten alsof je met een vriend of een bekende bent, en ik kan je helpen om je gedachten en gevoelens uit te drukken.\\\\n5. **Naamgeving**: Ik kan namen suggesteren voor mensen, plaatsen, bedrijven of andere dingen.\\\\n6. **Taalverbetering**: Ik kan je helpen om je Engelse vaardigheden te verbeteren door je te helpen om tekstjes te schrijven, te lezen en te begrij'"
      ]
     },
     "execution_count": 5,
     "metadata": {},
     "output_type": "execute_result"
    }
   ],
   "source": [
    "from inference.run_local import infer_run_local\n",
    "\n",
    "\n",
    "infer_run_local(\"\"\"[\n",
    "    {\"role\": \"system\", \"content\": \"You are a helpful assistant.\"},\n",
    "    {\"role\": \"user\", \"content\": \"Wat kun je allemaal doen?\"}\n",
    "]\"\"\")\n"
   ]
  },
  {
   "cell_type": "code",
   "execution_count": null,
   "metadata": {},
   "outputs": [],
   "source": [
    "from inference.run_local import infer_run_local\n",
    "\n",
    "infer_run_local(\"Hoe heet je?\", systemPrompt=\"JIJ bent een robot\", generation_kwargs={\"stop\": [\"User:\", \"System:\"]}, LLM=\"BramVanroy/GEITje-7B-ultra-GGUF\", filename=\"geitje-7b-ultra-q5_k_m.gguf\")"
   ]
  },
  {
   "cell_type": "code",
   "execution_count": null,
   "metadata": {},
   "outputs": [],
   "source": [
    "from inference.run_local import infer_run_local\n",
    "\n",
    "\n",
    "infer_run_local(\"Hoe heet je?\", systemPrompt=\"JIJ bent een robot\")\n"
   ]
  },
  {
   "cell_type": "code",
   "execution_count": null,
   "metadata": {},
   "outputs": [],
   "source": []
  }
 ],
 "metadata": {
  "kernelspec": {
   "display_name": "Python 3",
   "language": "python",
   "name": "python3"
  },
  "language_info": {
   "codemirror_mode": {
    "name": "ipython",
    "version": 3
   },
   "file_extension": ".py",
   "mimetype": "text/x-python",
   "name": "python",
   "nbconvert_exporter": "python",
   "pygments_lexer": "ipython3",
   "version": "3.10.15"
  }
 },
 "nbformat": 4,
 "nbformat_minor": 2
}
